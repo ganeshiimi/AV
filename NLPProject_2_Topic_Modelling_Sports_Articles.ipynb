{
  "nbformat": 4,
  "nbformat_minor": 0,
  "metadata": {
    "kernelspec": {
      "display_name": "Python 3",
      "language": "python",
      "name": "python3"
    },
    "language_info": {
      "codemirror_mode": {
        "name": "ipython",
        "version": 3
      },
      "file_extension": ".py",
      "mimetype": "text/x-python",
      "name": "python",
      "nbconvert_exporter": "python",
      "pygments_lexer": "ipython3",
      "version": "3.6.7"
    },
    "colab": {
      "name": "NLPProject 2 -Topic_Modelling_Sports_Articles.ipynb",
      "provenance": [],
      "collapsed_sections": [],
      "include_colab_link": true
    }
  },
  "cells": [
    {
      "cell_type": "markdown",
      "metadata": {
        "id": "view-in-github",
        "colab_type": "text"
      },
      "source": [
        "<a href=\"https://colab.research.google.com/github/ganeshiimi/AV/blob/master/NLPProject_2_Topic_Modelling_Sports_Articles.ipynb\" target=\"_parent\"><img src=\"https://colab.research.google.com/assets/colab-badge.svg\" alt=\"Open In Colab\"/></a>"
      ]
    },
    {
      "cell_type": "code",
      "metadata": {
        "id": "VNnkpvX8rQG_",
        "outputId": "22002175-b6ef-47de-d9b2-f4fd8c28a68b",
        "colab": {
          "base_uri": "https://localhost:8080/",
          "height": 124
        }
      },
      "source": [
        "from google.colab import drive\n",
        "drive.mount('/content/drive')"
      ],
      "execution_count": null,
      "outputs": [
        {
          "output_type": "stream",
          "text": [
            "Go to this URL in a browser: https://accounts.google.com/o/oauth2/auth?client_id=947318989803-6bn6qk8qdgf4n4g3pfee6491hc0brc4i.apps.googleusercontent.com&redirect_uri=urn%3aietf%3awg%3aoauth%3a2.0%3aoob&response_type=code&scope=email%20https%3a%2f%2fwww.googleapis.com%2fauth%2fdocs.test%20https%3a%2f%2fwww.googleapis.com%2fauth%2fdrive%20https%3a%2f%2fwww.googleapis.com%2fauth%2fdrive.photos.readonly%20https%3a%2f%2fwww.googleapis.com%2fauth%2fpeopleapi.readonly\n",
            "\n",
            "Enter your authorization code:\n",
            "··········\n",
            "Mounted at /content/drive\n"
          ],
          "name": "stdout"
        }
      ]
    },
    {
      "cell_type": "markdown",
      "metadata": {
        "id": "V--9GscIpv5O"
      },
      "source": [
        "# Topic Modelling on BBC Sports News Articles\n",
        "\n",
        "The data is available [link](http://mlg.ucd.ie/files/datasets/bbcsport-fulltext.zip)."
      ]
    },
    {
      "cell_type": "code",
      "metadata": {
        "id": "M0LibQdnpv5P"
      },
      "source": [
        "# Import required libraries\n",
        "# Read data\n",
        "# Explore and pre-process text\n",
        "# Topic Modeling"
      ],
      "execution_count": null,
      "outputs": []
    },
    {
      "cell_type": "markdown",
      "metadata": {
        "id": "5IZrQA52pv5S"
      },
      "source": [
        "## Import required libraries"
      ]
    },
    {
      "cell_type": "code",
      "metadata": {
        "id": "bJRe0RVYpv5T"
      },
      "source": [
        "import numpy as np\n",
        "import pandas as pd\n",
        "import nltk\n",
        "import spacy\n",
        "import re\n",
        "import os\n",
        "import matplotlib.pyplot as plt\n",
        "import seaborn as sns\n",
        "from scipy.sparse import csr_matrix\n",
        "from google.colab import files\n",
        "pd.set_option(\"display.max_colwidth\", 200)"
      ],
      "execution_count": null,
      "outputs": []
    },
    {
      "cell_type": "markdown",
      "metadata": {
        "id": "01ig11xLpv5V"
      },
      "source": [
        "## Read Data"
      ]
    },
    {
      "cell_type": "code",
      "metadata": {
        "id": "75fizy89pv5V"
      },
      "source": [
        "# open the file using open() function\n",
        "file = open('/content/drive/My Drive/NLP/sports_articles/003.txt', mode='rt', encoding='utf-8')\n",
        "\n",
        "# read content using .read() function\n",
        "text = file.read()\n",
        "\n",
        "# close the file using .close() function\n",
        "file.close()"
      ],
      "execution_count": null,
      "outputs": []
    },
    {
      "cell_type": "code",
      "metadata": {
        "id": "nlfew616pv5Y",
        "outputId": "54c67e38-86f9-4d04-81b1-62ee8b8a0bab",
        "colab": {
          "base_uri": "https://localhost:8080/",
          "height": 55
        }
      },
      "source": [
        "text"
      ],
      "execution_count": null,
      "outputs": [
        {
          "output_type": "execute_result",
          "data": {
            "text/plain": [
              "'Greene sets sights on world title\\n\\nMaurice Greene aims to wipe out the pain of losing his Olympic 100m title in Athens by winning a fourth World Championship crown this summer.\\n\\nHe had to settle for bronze in Greece behind fellow American Justin Gatlin and Francis Obikwelu of Portugal. \"It really hurts to look at that medal. It was my mistake. I lost because of the things I did,\" said Greene, who races in Birmingham on Friday. \"It\\'s never going to happen again. My goal - I\\'m going to win the worlds.\" Greene crossed the line just 0.02 seconds behind Gatlin, who won in 9.87 seconds in one of the closest and fastest sprints of all time. But Greene believes he lost the race and his title in the semi-finals. \"In my semi-final race, I should have won the race but I was conserving energy. \"That\\'s when Francis Obikwelu came up and I took third because I didn\\'t know he was there. \"I believe that\\'s what put me in lane seven in the final and, while I was in lane seven, I couldn\\'t feel anything in the race.\\n\\n\"I just felt like I was running all alone. \"I believe if I was in the middle of the race I would have been able to react to people that came ahead of me.\" Greene was also denied Olympic gold in the 4x100m men\\'s relay when he could not catch Britain\\'s Mark Lewis-Francis on the final leg. The Kansas star is set to go head-to-head with Lewis-Francis again at Friday\\'s Norwich Union Grand Prix. The pair contest the 60m, the distance over which Greene currently holds the world record of 6.39 seconds. He then has another indoor meeting in France before resuming training for the outdoor season and the task of recapturing his world title in Helsinki in August. Greene believes Gatlin will again prove the biggest threat to his ambitions in Finland. But he also admits he faces more than one rival for the world crown. \"There\\'s always someone else coming. I think when I was coming up I would say there was me and Ato (Boldon) in the young crowd,\" Greene said. \"Now you\\'ve got about five or six young guys coming up at the same time.\"\\n'"
            ]
          },
          "metadata": {
            "tags": []
          },
          "execution_count": 5
        }
      ]
    },
    {
      "cell_type": "markdown",
      "metadata": {
        "id": "xBzFu1BZpv5a"
      },
      "source": [
        "---"
      ]
    },
    {
      "cell_type": "code",
      "metadata": {
        "id": "X9QQLaaVpv5b"
      },
      "source": [
        "# read file names\n",
        "file_names = os.listdir(\"/content/drive/My Drive/NLP/sports_articles\")"
      ],
      "execution_count": null,
      "outputs": []
    },
    {
      "cell_type": "code",
      "metadata": {
        "id": "lkaAj14kpv5d",
        "outputId": "269271af-1a7a-446b-d801-7c990920d37a",
        "colab": {
          "base_uri": "https://localhost:8080/",
          "height": 191
        }
      },
      "source": [
        "# print first 10 file names\n",
        "file_names[:10]"
      ],
      "execution_count": null,
      "outputs": [
        {
          "output_type": "execute_result",
          "data": {
            "text/plain": [
              "['011.txt',\n",
              " '077.txt',\n",
              " '094.txt',\n",
              " '027.txt',\n",
              " '100.txt',\n",
              " '033.txt',\n",
              " '072.txt',\n",
              " '090.txt',\n",
              " '025.txt',\n",
              " '003.txt']"
            ]
          },
          "metadata": {
            "tags": []
          },
          "execution_count": 7
        }
      ]
    },
    {
      "cell_type": "markdown",
      "metadata": {
        "id": "uZHvwQhtpv5h"
      },
      "source": [
        "---\n",
        "Let's read all the articles using a for loop."
      ]
    },
    {
      "cell_type": "code",
      "metadata": {
        "id": "bE4hiqKLpv5h"
      },
      "source": [
        "# empty list\n",
        "articles = []\n",
        "\n",
        "# read all articles\n",
        "for f in file_names:\n",
        "    # open the file\n",
        "    file = open('/content/drive/My Drive/NLP/sports_articles/'+f, mode='rt', encoding='utf-8')\n",
        "    text = file.read()\n",
        "    file.close()\n",
        "    \n",
        "    articles.append(text)"
      ],
      "execution_count": null,
      "outputs": []
    },
    {
      "cell_type": "code",
      "metadata": {
        "id": "gC49W8u6pv5k",
        "outputId": "1f681b52-6fcd-4305-bb4f-502274c5e028",
        "colab": {
          "base_uri": "https://localhost:8080/",
          "height": 35
        }
      },
      "source": [
        "len(articles)"
      ],
      "execution_count": null,
      "outputs": [
        {
          "output_type": "execute_result",
          "data": {
            "text/plain": [
              "471"
            ]
          },
          "metadata": {
            "tags": []
          },
          "execution_count": 9
        }
      ]
    },
    {
      "cell_type": "markdown",
      "metadata": {
        "id": "fVJyaVNtpv5m"
      },
      "source": [
        "<br>\n",
        "\n",
        "## Explore and Pre-process the Text\n",
        "\n",
        "Let's try to understand the text data we have in the BBC Sports News Articles. This exploration will determine the subsequent sequence of actions to be taken on the text data.\n",
        "\n",
        "First of all, we will randomly select some articles and inspect them."
      ]
    },
    {
      "cell_type": "code",
      "metadata": {
        "id": "ddUy4344pv5n",
        "outputId": "9ee6853a-d636-4cc6-d3b9-0d77c13a88a2",
        "colab": {
          "base_uri": "https://localhost:8080/",
          "height": 55
        }
      },
      "source": [
        "articles[54]"
      ],
      "execution_count": null,
      "outputs": [
        {
          "output_type": "execute_result",
          "data": {
            "text/plain": [
              "'Jones medals \\'must go if guilty\\'\\n\\nWorld Anti-Doping Agency (WADA) chief Dick Pound says Marion Jones should be stripped of all her medals if found guilty of taking banned substances.\\n\\nVictor Conte, of Balco Laboratories, claims the American sprinter regularly used drugs to enhance her performance. \"If she is found guilty she should be stripped of all her medals and banned for two years,\" said Pound. Asked if there was a timescale as to what medals could be taken, Pound said: \"That is not an issue at all.\" However, under International Olympic Committee (IOC) rules, athletes can only be stripped of their medals if caught within three years of the event. Jones, who won five medals at the 2000 Olympics, denies using drugs and says she will take legal action over Conte\\'s allegations. Balco Laboratories is the firm at the centre of a wide-reaching investigation into doping in the US. Pound continued: \"If she has indeed taken drugs it is going to be a big disappointment for a lot of people.\"\\n'"
            ]
          },
          "metadata": {
            "tags": []
          },
          "execution_count": 10
        }
      ]
    },
    {
      "cell_type": "markdown",
      "metadata": {
        "id": "W9qGkGxZpv5p"
      },
      "source": [
        "---"
      ]
    },
    {
      "cell_type": "markdown",
      "metadata": {
        "id": "1o5z1-7mpv5p"
      },
      "source": [
        "There are lots __(\\\\')__ and __(\\n)__ which are undesirable. Let's go ahead and get rid of them.\n",
        "\n",
        "### 1. Text Cleaning"
      ]
    },
    {
      "cell_type": "code",
      "metadata": {
        "id": "uzdyciyfpv5q"
      },
      "source": [
        "clean_articles = []\n",
        "\n",
        "# clean the articles and store it in the list clean_articles\n",
        "for i in articles:\n",
        "    clean_articles.append(i.replace(\"\\n\",\" \").replace(\"\\'\", \" \"))"
      ],
      "execution_count": null,
      "outputs": []
    },
    {
      "cell_type": "code",
      "metadata": {
        "id": "U5br1nampv5s",
        "outputId": "ed4a696f-5f30-4301-ed18-8e8fcd86990d",
        "colab": {
          "base_uri": "https://localhost:8080/",
          "height": 55
        }
      },
      "source": [
        "clean_articles[54]"
      ],
      "execution_count": null,
      "outputs": [
        {
          "output_type": "execute_result",
          "data": {
            "text/plain": [
              "'Jones medals  must go if guilty   World Anti-Doping Agency (WADA) chief Dick Pound says Marion Jones should be stripped of all her medals if found guilty of taking banned substances.  Victor Conte, of Balco Laboratories, claims the American sprinter regularly used drugs to enhance her performance. \"If she is found guilty she should be stripped of all her medals and banned for two years,\" said Pound. Asked if there was a timescale as to what medals could be taken, Pound said: \"That is not an issue at all.\" However, under International Olympic Committee (IOC) rules, athletes can only be stripped of their medals if caught within three years of the event. Jones, who won five medals at the 2000 Olympics, denies using drugs and says she will take legal action over Conte s allegations. Balco Laboratories is the firm at the centre of a wide-reaching investigation into doping in the US. Pound continued: \"If she has indeed taken drugs it is going to be a big disappointment for a lot of people.\" '"
            ]
          },
          "metadata": {
            "tags": []
          },
          "execution_count": 12
        }
      ]
    },
    {
      "cell_type": "markdown",
      "metadata": {
        "id": "WIJkicUOpv5u"
      },
      "source": [
        "---"
      ]
    },
    {
      "cell_type": "markdown",
      "metadata": {
        "id": "HtT2HzWMpv5u"
      },
      "source": [
        "Let's remove numbers, punctuation, and special characters (&!>$@$...etc)."
      ]
    },
    {
      "cell_type": "code",
      "metadata": {
        "id": "s9I3rgq-pv5v"
      },
      "source": [
        "# strip everthing except alphabets from the text\n",
        "clean_articles = [re.sub(\"[^a-zA-Z]\",\" \",x) for x in clean_articles]"
      ],
      "execution_count": null,
      "outputs": []
    },
    {
      "cell_type": "code",
      "metadata": {
        "id": "o3obegudpv5x",
        "outputId": "37cde7b5-8f64-424f-dbfc-14602dcb47d1",
        "colab": {
          "base_uri": "https://localhost:8080/",
          "height": 55
        }
      },
      "source": [
        "clean_articles[54]"
      ],
      "execution_count": null,
      "outputs": [
        {
          "output_type": "execute_result",
          "data": {
            "text/plain": [
              "'Jones medals  must go if guilty   World Anti Doping Agency  WADA  chief Dick Pound says Marion Jones should be stripped of all her medals if found guilty of taking banned substances   Victor Conte  of Balco Laboratories  claims the American sprinter regularly used drugs to enhance her performance   If she is found guilty she should be stripped of all her medals and banned for two years   said Pound  Asked if there was a timescale as to what medals could be taken  Pound said   That is not an issue at all   However  under International Olympic Committee  IOC  rules  athletes can only be stripped of their medals if caught within three years of the event  Jones  who won five medals at the      Olympics  denies using drugs and says she will take legal action over Conte s allegations  Balco Laboratories is the firm at the centre of a wide reaching investigation into doping in the US  Pound continued   If she has indeed taken drugs it is going to be a big disappointment for a lot of people   '"
            ]
          },
          "metadata": {
            "tags": []
          },
          "execution_count": 14
        }
      ]
    },
    {
      "cell_type": "code",
      "metadata": {
        "id": "z_EnQrBwpv5z"
      },
      "source": [
        "# remove single character terms\n",
        "clean_articles = [' '.join([w for w in x.split() if len(w)>1]) for x in clean_articles]"
      ],
      "execution_count": null,
      "outputs": []
    },
    {
      "cell_type": "code",
      "metadata": {
        "id": "J-GnRMBspv51",
        "outputId": "08a0f83f-ba2b-4460-ea5e-c8d9aba41ebf",
        "colab": {
          "base_uri": "https://localhost:8080/",
          "height": 55
        }
      },
      "source": [
        "clean_articles[54]"
      ],
      "execution_count": null,
      "outputs": [
        {
          "output_type": "execute_result",
          "data": {
            "text/plain": [
              "'Jones medals must go if guilty World Anti Doping Agency WADA chief Dick Pound says Marion Jones should be stripped of all her medals if found guilty of taking banned substances Victor Conte of Balco Laboratories claims the American sprinter regularly used drugs to enhance her performance If she is found guilty she should be stripped of all her medals and banned for two years said Pound Asked if there was timescale as to what medals could be taken Pound said That is not an issue at all However under International Olympic Committee IOC rules athletes can only be stripped of their medals if caught within three years of the event Jones who won five medals at the Olympics denies using drugs and says she will take legal action over Conte allegations Balco Laboratories is the firm at the centre of wide reaching investigation into doping in the US Pound continued If she has indeed taken drugs it is going to be big disappointment for lot of people'"
            ]
          },
          "metadata": {
            "tags": []
          },
          "execution_count": 16
        }
      ]
    },
    {
      "cell_type": "markdown",
      "metadata": {
        "id": "U2_0eR8Gpv54"
      },
      "source": [
        "---\n",
        "We have cleaned our text to a great extent. However, we should now make uppercase characters to lowercase or else it would result in an inflated vocabulary of unique words.\n",
        "\n",
        "For example, the terms __'But'__ and __'but'__ would be considered as 2 separate words."
      ]
    },
    {
      "cell_type": "code",
      "metadata": {
        "id": "g4u3Mq8gpv54"
      },
      "source": [
        "clean_articles = [x.lower() for x in clean_articles]"
      ],
      "execution_count": null,
      "outputs": []
    },
    {
      "cell_type": "code",
      "metadata": {
        "id": "uZF0S5IFpv56",
        "outputId": "f4a06ea7-20aa-4c06-e60d-70ba7873003e",
        "colab": {
          "base_uri": "https://localhost:8080/",
          "height": 55
        }
      },
      "source": [
        "clean_articles[54]"
      ],
      "execution_count": null,
      "outputs": [
        {
          "output_type": "execute_result",
          "data": {
            "text/plain": [
              "'jones medals must go if guilty world anti doping agency wada chief dick pound says marion jones should be stripped of all her medals if found guilty of taking banned substances victor conte of balco laboratories claims the american sprinter regularly used drugs to enhance her performance if she is found guilty she should be stripped of all her medals and banned for two years said pound asked if there was timescale as to what medals could be taken pound said that is not an issue at all however under international olympic committee ioc rules athletes can only be stripped of their medals if caught within three years of the event jones who won five medals at the olympics denies using drugs and says she will take legal action over conte allegations balco laboratories is the firm at the centre of wide reaching investigation into doping in the us pound continued if she has indeed taken drugs it is going to be big disappointment for lot of people'"
            ]
          },
          "metadata": {
            "tags": []
          },
          "execution_count": 18
        }
      ]
    },
    {
      "cell_type": "markdown",
      "metadata": {
        "id": "JDKg3G-Ppv58"
      },
      "source": [
        "---\n",
        "Now we will check the most frequent words appearing in the articles."
      ]
    },
    {
      "cell_type": "code",
      "metadata": {
        "id": "izWUuM1Zpv58"
      },
      "source": [
        "# function to plot top 30 most frequent words\n",
        "def freq_words(x, terms = 30):\n",
        "  # combine all the articles  \n",
        "  text = ' '.join([text for text in x])\n",
        "  # split text into words   \n",
        "  all_words = text.split()\n",
        "  \n",
        "  # prepare a dictionary of word-frequency pairs\n",
        "  fdist = nltk.FreqDist(all_words)\n",
        "  words_df = pd.DataFrame({'word':list(fdist.keys()), 'count':list(fdist.values())})\n",
        "  \n",
        "  # selecting top n most frequent words\n",
        "  d = words_df.nlargest(columns=\"count\", n = terms) \n",
        "  \n",
        "  # plot the word counts  \n",
        "  plt.figure(figsize=(20,5))\n",
        "  ax = sns.barplot(data=d, x= \"word\", y = \"count\")\n",
        "  ax.set(ylabel = 'Count')\n",
        "  plt.show()"
      ],
      "execution_count": null,
      "outputs": []
    },
    {
      "cell_type": "code",
      "metadata": {
        "id": "8F4V9ohOpv5-",
        "outputId": "f4b4f936-6519-4eee-cee9-e9c8af327381",
        "colab": {
          "base_uri": "https://localhost:8080/",
          "height": 329
        }
      },
      "source": [
        "freq_words(clean_articles)"
      ],
      "execution_count": null,
      "outputs": [
        {
          "output_type": "display_data",
          "data": {
            "image/png": "[encoded data removed]",
            "text/plain": [
              "<Figure size 1440x360 with 1 Axes>"
            ]
          },
          "metadata": {
            "tags": [],
            "needs_background": "light"
          }
        }
      ]
    },
    {
      "cell_type": "markdown",
      "metadata": {
        "id": "A0Pfc-qZpv6A"
      },
      "source": [
        "Words like 'the', 'and', 'for', 'on' etc. are in large numbers and they don't really tell us anything about any topic or idea. Hence, we should take off these sort of words and let the more important words come up."
      ]
    },
    {
      "cell_type": "markdown",
      "metadata": {
        "id": "ivX3352_pv6A"
      },
      "source": [
        "### 2. Lemmatize Text and Strip Stopwords"
      ]
    },
    {
      "cell_type": "code",
      "metadata": {
        "id": "hlKehc4Kpv6A"
      },
      "source": [
        "# load spaCy model\n",
        "nlp = spacy.load('en_core_web_sm')"
      ],
      "execution_count": null,
      "outputs": []
    },
    {
      "cell_type": "code",
      "metadata": {
        "id": "shX4KbNspv6C"
      },
      "source": [
        "# lemmatization\n",
        "clean_articles = [' '.join([token.lemma_ for token in nlp(x)]) for x in clean_articles]\n",
        "\n",
        "# remove stopwords\n",
        "clean_articles = [' '.join([w for w in x.split() if nlp.vocab[w].is_stop==False]) for x in clean_articles]"
      ],
      "execution_count": null,
      "outputs": []
    },
    {
      "cell_type": "code",
      "metadata": {
        "id": "6xN0lvELpv6D",
        "outputId": "11029d1e-a063-43e4-bfe6-c145ecd1a96c",
        "colab": {
          "base_uri": "https://localhost:8080/",
          "height": 55
        }
      },
      "source": [
        "clean_articles[54]"
      ],
      "execution_count": null,
      "outputs": [
        {
          "output_type": "execute_result",
          "data": {
            "text/plain": [
              "'jones medal guilty world anti dope agency wada chief dick pound marion jones strip -PRON- medal find guilty ban substance victor conte balco laboratory claim american sprinter regularly use drug enhance -PRON- performance -PRON- find guilty -PRON- strip -PRON- medal ban year pound ask timescale medal pound issue international olympic committee ioc rule athlete strip -PRON- medal catch year event jones win medal olympics deny use drug -PRON- legal action conte allegation balco laboratory firm centre wide reach investigation dope pound continue -PRON- drug -PRON- big disappointment lot people'"
            ]
          },
          "metadata": {
            "tags": []
          },
          "execution_count": 23
        }
      ]
    },
    {
      "cell_type": "code",
      "metadata": {
        "id": "mwHUcCGXpv6F",
        "outputId": "72d63b6d-ba6e-46de-fbd2-07e18cd2a95e",
        "colab": {
          "base_uri": "https://localhost:8080/",
          "height": 330
        }
      },
      "source": [
        "freq_words(clean_articles)"
      ],
      "execution_count": null,
      "outputs": [
        {
          "output_type": "display_data",
          "data": {
            "image/png": "[encoded data removed]",
            "text/plain": [
              "<Figure size 1440x360 with 1 Axes>"
            ]
          },
          "metadata": {
            "tags": [],
            "needs_background": "light"
          }
        }
      ]
    },
    {
      "cell_type": "markdown",
      "metadata": {
        "id": "sjO3xB6Mpv6H"
      },
      "source": [
        "Most of the stopwords have been removed. However, quite a many pronouns have been replaced with the tag __-PRON-__. This is a technical issue with spaCy. We will have to manually remove it."
      ]
    },
    {
      "cell_type": "code",
      "metadata": {
        "id": "ME7m9Jctpv6I"
      },
      "source": [
        "# remove -PRON- tags\n",
        "clean_articles = [re.sub('-PRON-',  '', i) for i in clean_articles]"
      ],
      "execution_count": null,
      "outputs": []
    },
    {
      "cell_type": "code",
      "metadata": {
        "id": "yJAmZgOEpv6J",
        "outputId": "9c029271-2369-46fa-a0e9-5e57e7688ad4",
        "colab": {
          "base_uri": "https://localhost:8080/",
          "height": 335
        }
      },
      "source": [
        "freq_words(clean_articles)"
      ],
      "execution_count": null,
      "outputs": [
        {
          "output_type": "display_data",
          "data": {
            "image/png": "[encoded data removed]",
            "text/plain": [
              "<Figure size 1440x360 with 1 Axes>"
            ]
          },
          "metadata": {
            "tags": [],
            "needs_background": "light"
          }
        }
      ]
    },
    {
      "cell_type": "markdown",
      "metadata": {
        "id": "Q8vGYAQqpv6L"
      },
      "source": [
        "<br>\n",
        "\n",
        "## Topic Modeling"
      ]
    },
    {
      "cell_type": "markdown",
      "metadata": {
        "id": "rhCuo8Rvpv6L"
      },
      "source": [
        "__Document-Term-Matrix__\n",
        "\n",
        "<img src=\"table.png\">"
      ]
    },
    {
      "cell_type": "code",
      "metadata": {
        "id": "TOfN36AKpv6L"
      },
      "source": [
        "def get_words(x):\n",
        "  # combine all the articles  \n",
        "  text = ' '.join([text for text in x])\n",
        "  # split text into words   \n",
        "  return set(text.split())"
      ],
      "execution_count": null,
      "outputs": []
    },
    {
      "cell_type": "code",
      "metadata": {
        "id": "w5cqIhcrpv6N",
        "outputId": "6a2729ef-4c33-4e39-f941-87e865cec43f",
        "colab": {
          "base_uri": "https://localhost:8080/",
          "height": 35
        }
      },
      "source": [
        "# get unique words in the articles\n",
        "unique_words = get_words(clean_articles)\n",
        "\n",
        "# count of unique words\n",
        "len(unique_words)"
      ],
      "execution_count": null,
      "outputs": [
        {
          "output_type": "execute_result",
          "data": {
            "text/plain": [
              "7754"
            ]
          },
          "metadata": {
            "tags": []
          },
          "execution_count": 28
        }
      ]
    },
    {
      "cell_type": "markdown",
      "metadata": {
        "id": "t8XYDK7wpv6Q"
      },
      "source": [
        "This is the first step towards topic modeling. We will use sklearn's TfidfVectorizer to create a document-term matrix with 1000 terms.\n",
        "\n",
        "__1. Vectorization__"
      ]
    },
    {
      "cell_type": "code",
      "metadata": {
        "id": "vCWbiA62pv6Q"
      },
      "source": [
        "from sklearn.feature_extraction.text import TfidfVectorizer"
      ],
      "execution_count": null,
      "outputs": []
    },
    {
      "cell_type": "code",
      "metadata": {
        "id": "qtlePodvpv6S",
        "outputId": "e08d4692-ad07-4e24-9d59-f93748da60d6",
        "colab": {
          "base_uri": "https://localhost:8080/",
          "height": 35
        }
      },
      "source": [
        "vectorizer = TfidfVectorizer()\n",
        "    \n",
        "X = vectorizer.fit_transform(clean_articles)\n",
        "\n",
        "X.shape"
      ],
      "execution_count": null,
      "outputs": [
        {
          "output_type": "execute_result",
          "data": {
            "text/plain": [
              "(471, 7754)"
            ]
          },
          "metadata": {
            "tags": []
          },
          "execution_count": 30
        }
      ]
    },
    {
      "cell_type": "code",
      "metadata": {
        "id": "CymHncpi52_m"
      },
      "source": [
        ""
      ],
      "execution_count": null,
      "outputs": []
    },
    {
      "cell_type": "code",
      "metadata": {
        "id": "O0CpfNBopv6U"
      },
      "source": [
        "X_df=pd.DataFrame(csr_matrix(X).toarray(),columns=vectorizer.get_feature_names(),index=range(len(clean_articles)))\n",
        "#X_df = pd.SparseDataFrame(X, columns=vectorizer.get_feature_names(), index=range(len(clean_articles)), default_fill_value=0)"
      ],
      "execution_count": null,
      "outputs": []
    },
    {
      "cell_type": "code",
      "metadata": {
        "id": "7tWzCXUNpv6V",
        "outputId": "50e74b4c-119c-4b51-d27e-45c385cd08e0",
        "colab": {
          "base_uri": "https://localhost:8080/",
          "height": 375
        }
      },
      "source": [
        "X_df.iloc[:10,1000:1020]"
      ],
      "execution_count": null,
      "outputs": [
        {
          "output_type": "execute_result",
          "data": {
            "text/html": [
              "<div>\n",
              "<style scoped>\n",
              "    .dataframe tbody tr th:only-of-type {\n",
              "        vertical-align: middle;\n",
              "    }\n",
              "\n",
              "    .dataframe tbody tr th {\n",
              "        vertical-align: top;\n",
              "    }\n",
              "\n",
              "    .dataframe thead th {\n",
              "        text-align: right;\n",
              "    }\n",
              "</style>\n",
              "<table border=\"1\" class=\"dataframe\">\n",
              "  <thead>\n",
              "    <tr style=\"text-align: right;\">\n",
              "      <th></th>\n",
              "      <th>cancellation</th>\n",
              "      <th>cancer</th>\n",
              "      <th>candidate</th>\n",
              "      <th>candidly</th>\n",
              "      <th>canterbury</th>\n",
              "      <th>cap</th>\n",
              "      <th>capability</th>\n",
              "      <th>capable</th>\n",
              "      <th>capacity</th>\n",
              "      <th>cape</th>\n",
              "      <th>capital</th>\n",
              "      <th>capitalise</th>\n",
              "      <th>capitulate</th>\n",
              "      <th>capitulation</th>\n",
              "      <th>capriati</th>\n",
              "      <th>capt</th>\n",
              "      <th>captain</th>\n",
              "      <th>captaincy</th>\n",
              "      <th>captivate</th>\n",
              "      <th>capture</th>\n",
              "    </tr>\n",
              "  </thead>\n",
              "  <tbody>\n",
              "    <tr>\n",
              "      <th>0</th>\n",
              "      <td>0.0</td>\n",
              "      <td>0.0</td>\n",
              "      <td>0.0</td>\n",
              "      <td>0.0</td>\n",
              "      <td>0.0</td>\n",
              "      <td>0.000000</td>\n",
              "      <td>0.0</td>\n",
              "      <td>0.0</td>\n",
              "      <td>0.0</td>\n",
              "      <td>0.0</td>\n",
              "      <td>0.000000</td>\n",
              "      <td>0.0</td>\n",
              "      <td>0.0</td>\n",
              "      <td>0.0</td>\n",
              "      <td>0.0</td>\n",
              "      <td>0.0</td>\n",
              "      <td>0.0</td>\n",
              "      <td>0.0</td>\n",
              "      <td>0.0</td>\n",
              "      <td>0.0</td>\n",
              "    </tr>\n",
              "    <tr>\n",
              "      <th>1</th>\n",
              "      <td>0.0</td>\n",
              "      <td>0.0</td>\n",
              "      <td>0.0</td>\n",
              "      <td>0.0</td>\n",
              "      <td>0.0</td>\n",
              "      <td>0.000000</td>\n",
              "      <td>0.0</td>\n",
              "      <td>0.0</td>\n",
              "      <td>0.0</td>\n",
              "      <td>0.0</td>\n",
              "      <td>0.000000</td>\n",
              "      <td>0.0</td>\n",
              "      <td>0.0</td>\n",
              "      <td>0.0</td>\n",
              "      <td>0.0</td>\n",
              "      <td>0.0</td>\n",
              "      <td>0.0</td>\n",
              "      <td>0.0</td>\n",
              "      <td>0.0</td>\n",
              "      <td>0.0</td>\n",
              "    </tr>\n",
              "    <tr>\n",
              "      <th>2</th>\n",
              "      <td>0.0</td>\n",
              "      <td>0.0</td>\n",
              "      <td>0.0</td>\n",
              "      <td>0.0</td>\n",
              "      <td>0.0</td>\n",
              "      <td>0.000000</td>\n",
              "      <td>0.0</td>\n",
              "      <td>0.0</td>\n",
              "      <td>0.0</td>\n",
              "      <td>0.0</td>\n",
              "      <td>0.000000</td>\n",
              "      <td>0.0</td>\n",
              "      <td>0.0</td>\n",
              "      <td>0.0</td>\n",
              "      <td>0.0</td>\n",
              "      <td>0.0</td>\n",
              "      <td>0.0</td>\n",
              "      <td>0.0</td>\n",
              "      <td>0.0</td>\n",
              "      <td>0.0</td>\n",
              "    </tr>\n",
              "    <tr>\n",
              "      <th>3</th>\n",
              "      <td>0.0</td>\n",
              "      <td>0.0</td>\n",
              "      <td>0.0</td>\n",
              "      <td>0.0</td>\n",
              "      <td>0.0</td>\n",
              "      <td>0.000000</td>\n",
              "      <td>0.0</td>\n",
              "      <td>0.0</td>\n",
              "      <td>0.0</td>\n",
              "      <td>0.0</td>\n",
              "      <td>0.000000</td>\n",
              "      <td>0.0</td>\n",
              "      <td>0.0</td>\n",
              "      <td>0.0</td>\n",
              "      <td>0.0</td>\n",
              "      <td>0.0</td>\n",
              "      <td>0.0</td>\n",
              "      <td>0.0</td>\n",
              "      <td>0.0</td>\n",
              "      <td>0.0</td>\n",
              "    </tr>\n",
              "    <tr>\n",
              "      <th>4</th>\n",
              "      <td>0.0</td>\n",
              "      <td>0.0</td>\n",
              "      <td>0.0</td>\n",
              "      <td>0.0</td>\n",
              "      <td>0.0</td>\n",
              "      <td>0.000000</td>\n",
              "      <td>0.0</td>\n",
              "      <td>0.0</td>\n",
              "      <td>0.0</td>\n",
              "      <td>0.0</td>\n",
              "      <td>0.000000</td>\n",
              "      <td>0.0</td>\n",
              "      <td>0.0</td>\n",
              "      <td>0.0</td>\n",
              "      <td>0.0</td>\n",
              "      <td>0.0</td>\n",
              "      <td>0.0</td>\n",
              "      <td>0.0</td>\n",
              "      <td>0.0</td>\n",
              "      <td>0.0</td>\n",
              "    </tr>\n",
              "    <tr>\n",
              "      <th>5</th>\n",
              "      <td>0.0</td>\n",
              "      <td>0.0</td>\n",
              "      <td>0.0</td>\n",
              "      <td>0.0</td>\n",
              "      <td>0.0</td>\n",
              "      <td>0.000000</td>\n",
              "      <td>0.0</td>\n",
              "      <td>0.0</td>\n",
              "      <td>0.0</td>\n",
              "      <td>0.0</td>\n",
              "      <td>0.000000</td>\n",
              "      <td>0.0</td>\n",
              "      <td>0.0</td>\n",
              "      <td>0.0</td>\n",
              "      <td>0.0</td>\n",
              "      <td>0.0</td>\n",
              "      <td>0.0</td>\n",
              "      <td>0.0</td>\n",
              "      <td>0.0</td>\n",
              "      <td>0.0</td>\n",
              "    </tr>\n",
              "    <tr>\n",
              "      <th>6</th>\n",
              "      <td>0.0</td>\n",
              "      <td>0.0</td>\n",
              "      <td>0.0</td>\n",
              "      <td>0.0</td>\n",
              "      <td>0.0</td>\n",
              "      <td>0.000000</td>\n",
              "      <td>0.0</td>\n",
              "      <td>0.0</td>\n",
              "      <td>0.0</td>\n",
              "      <td>0.0</td>\n",
              "      <td>0.064185</td>\n",
              "      <td>0.0</td>\n",
              "      <td>0.0</td>\n",
              "      <td>0.0</td>\n",
              "      <td>0.0</td>\n",
              "      <td>0.0</td>\n",
              "      <td>0.0</td>\n",
              "      <td>0.0</td>\n",
              "      <td>0.0</td>\n",
              "      <td>0.0</td>\n",
              "    </tr>\n",
              "    <tr>\n",
              "      <th>7</th>\n",
              "      <td>0.0</td>\n",
              "      <td>0.0</td>\n",
              "      <td>0.0</td>\n",
              "      <td>0.0</td>\n",
              "      <td>0.0</td>\n",
              "      <td>0.055712</td>\n",
              "      <td>0.0</td>\n",
              "      <td>0.0</td>\n",
              "      <td>0.0</td>\n",
              "      <td>0.0</td>\n",
              "      <td>0.000000</td>\n",
              "      <td>0.0</td>\n",
              "      <td>0.0</td>\n",
              "      <td>0.0</td>\n",
              "      <td>0.0</td>\n",
              "      <td>0.0</td>\n",
              "      <td>0.0</td>\n",
              "      <td>0.0</td>\n",
              "      <td>0.0</td>\n",
              "      <td>0.0</td>\n",
              "    </tr>\n",
              "    <tr>\n",
              "      <th>8</th>\n",
              "      <td>0.0</td>\n",
              "      <td>0.0</td>\n",
              "      <td>0.0</td>\n",
              "      <td>0.0</td>\n",
              "      <td>0.0</td>\n",
              "      <td>0.000000</td>\n",
              "      <td>0.0</td>\n",
              "      <td>0.0</td>\n",
              "      <td>0.0</td>\n",
              "      <td>0.0</td>\n",
              "      <td>0.000000</td>\n",
              "      <td>0.0</td>\n",
              "      <td>0.0</td>\n",
              "      <td>0.0</td>\n",
              "      <td>0.0</td>\n",
              "      <td>0.0</td>\n",
              "      <td>0.0</td>\n",
              "      <td>0.0</td>\n",
              "      <td>0.0</td>\n",
              "      <td>0.0</td>\n",
              "    </tr>\n",
              "    <tr>\n",
              "      <th>9</th>\n",
              "      <td>0.0</td>\n",
              "      <td>0.0</td>\n",
              "      <td>0.0</td>\n",
              "      <td>0.0</td>\n",
              "      <td>0.0</td>\n",
              "      <td>0.000000</td>\n",
              "      <td>0.0</td>\n",
              "      <td>0.0</td>\n",
              "      <td>0.0</td>\n",
              "      <td>0.0</td>\n",
              "      <td>0.000000</td>\n",
              "      <td>0.0</td>\n",
              "      <td>0.0</td>\n",
              "      <td>0.0</td>\n",
              "      <td>0.0</td>\n",
              "      <td>0.0</td>\n",
              "      <td>0.0</td>\n",
              "      <td>0.0</td>\n",
              "      <td>0.0</td>\n",
              "      <td>0.0</td>\n",
              "    </tr>\n",
              "  </tbody>\n",
              "</table>\n",
              "</div>"
            ],
            "text/plain": [
              "   cancellation  cancer  candidate  ...  captaincy  captivate  capture\n",
              "0           0.0     0.0        0.0  ...        0.0        0.0      0.0\n",
              "1           0.0     0.0        0.0  ...        0.0        0.0      0.0\n",
              "2           0.0     0.0        0.0  ...        0.0        0.0      0.0\n",
              "3           0.0     0.0        0.0  ...        0.0        0.0      0.0\n",
              "4           0.0     0.0        0.0  ...        0.0        0.0      0.0\n",
              "5           0.0     0.0        0.0  ...        0.0        0.0      0.0\n",
              "6           0.0     0.0        0.0  ...        0.0        0.0      0.0\n",
              "7           0.0     0.0        0.0  ...        0.0        0.0      0.0\n",
              "8           0.0     0.0        0.0  ...        0.0        0.0      0.0\n",
              "9           0.0     0.0        0.0  ...        0.0        0.0      0.0\n",
              "\n",
              "[10 rows x 20 columns]"
            ]
          },
          "metadata": {
            "tags": []
          },
          "execution_count": 32
        }
      ]
    },
    {
      "cell_type": "code",
      "metadata": {
        "id": "eH7lQyjfpv6X",
        "outputId": "9663e393-08b5-4e6b-abfb-ab3a07b9f763",
        "colab": {
          "base_uri": "https://localhost:8080/",
          "height": 35
        }
      },
      "source": [
        "vectorizer = TfidfVectorizer()\n",
        "vectorizer = TfidfVectorizer(max_features= 1000, # keep top 1000 most important terms \n",
        "                             min_df= 5,\n",
        "                             max_df = 0.9)\n",
        "    \n",
        "X = vectorizer.fit_transform(clean_articles)\n",
        "\n",
        "X.shape # check shape of the document-term matrix"
      ],
      "execution_count": null,
      "outputs": [
        {
          "output_type": "execute_result",
          "data": {
            "text/plain": [
              "(471, 1000)"
            ]
          },
          "metadata": {
            "tags": []
          },
          "execution_count": 33
        }
      ]
    },
    {
      "cell_type": "markdown",
      "metadata": {
        "id": "ToO1fn50pv6Y"
      },
      "source": [
        "__2. Dimensionality Reduction__\n",
        "\n",
        "The next step is to represent each and every term and document as a vector.  \n",
        "* Specify the number of topics.\n",
        "* Decompose the document-term matrix into 2 matrix.\n",
        "    1. Document-Topic Matrix\n",
        "    2. Topic-Term Matrix\n",
        "  \n",
        "  ![](https://s3-ap-south-1.amazonaws.com/av-blog-media/wp-content/uploads/2018/09/Screenshot_7.png)\n",
        "  \n",
        "* Use sklearn's TruncatedSVD to perform the task of matrix decomposition. "
      ]
    },
    {
      "cell_type": "code",
      "metadata": {
        "id": "t2MwPJcCpv6Z"
      },
      "source": [
        "from sklearn.decomposition import TruncatedSVD\n",
        "\n",
        "# SVD represent documents and terms in vectors \n",
        "svd_model = TruncatedSVD(n_components=4, random_state=12, n_iter=100)"
      ],
      "execution_count": null,
      "outputs": []
    },
    {
      "cell_type": "code",
      "metadata": {
        "id": "3sCF0Fgypv6a",
        "outputId": "938fcb6f-b970-4607-d6b8-05d2a455687a",
        "colab": {
          "base_uri": "https://localhost:8080/",
          "height": 52
        }
      },
      "source": [
        "svd_model.fit(X)"
      ],
      "execution_count": null,
      "outputs": [
        {
          "output_type": "execute_result",
          "data": {
            "text/plain": [
              "TruncatedSVD(algorithm='randomized', n_components=4, n_iter=100,\n",
              "             random_state=12, tol=0.0)"
            ]
          },
          "metadata": {
            "tags": []
          },
          "execution_count": 35
        }
      ]
    },
    {
      "cell_type": "markdown",
      "metadata": {
        "id": "XQOGK73Opv6c"
      },
      "source": [
        "The components of svd_model are our topics and we can access them using svdmodel.components. Finally let's print a few most important words in each of the 4 topics and see how good our model is."
      ]
    },
    {
      "cell_type": "code",
      "metadata": {
        "id": "2g4CQBtjpv6d",
        "outputId": "79b9a41c-cd61-4e39-8ed5-965b1e6efe87",
        "colab": {
          "base_uri": "https://localhost:8080/",
          "height": 315
        }
      },
      "source": [
        "# get column names of document term matrix\n",
        "terms = vectorizer.get_feature_names()\n",
        "\n",
        "for i, comp in enumerate(svd_model.components_):\n",
        "    terms_comp = zip(terms, comp)\n",
        "    sorted_terms = sorted(terms_comp, key= lambda x:x[1], reverse=True)[:50]\n",
        "    \n",
        "    print(\"Topic \"+str(i)+\": \")\n",
        "    topics = []\n",
        "    for t in sorted_terms:\n",
        "        topics.append(t[0])\n",
        "    \n",
        "    print(topics)\n",
        "    print('\\n')"
      ],
      "execution_count": null,
      "outputs": [
        {
          "output_type": "stream",
          "text": [
            "Topic 0: \n",
            "['england', 'win', 'play', 'year', 'game', 'test', 'match', 'world', 'good', 'team', 'player', 'ireland', 'final', 'time', 'day', 'new', 'cricket', 'rugby', 'second', 'come', 'france', 'open', 'coach', 'set', 'wales', 'run', 'cup', 'injury', 'think', 'tour', 'half', 'south', 'australia', 'start', 'series', 'international', 'nation', 'victory', 'beat', 'try', 'week', 'captain', 'champion', 'great', 'season', 'williams', 'ball', 'robinson', 'lose', 've']\n",
            "\n",
            "\n",
            "Topic 1: \n",
            "['champion', 'win', 'indoor', 'seed', 'title', 'open', 'world', 'olympic', 'race', 'final', 'set', 'year', 'european', 'holmes', 'roddick', 'federer', 'event', 'round', 'woman', 'compete', 'beat', 'hewitt', 'record', 'britain', 'birmingham', 'break', 'grand', 'australian', 'championship', 'gold', 'american', 'athens', 'british', 'athlete', 'agassi', 'jump', 'medal', 'second', 'davenport', 'double', 'tennis', 'madrid', 'henman', 'safin', 'wimbledon', 'francis', 'old', 'marathon', 'cross', 'slam']\n",
            "\n",
            "\n",
            "Topic 2: \n",
            "['england', 'ireland', 'wales', 'robinson', 'france', 'nation', 'rugby', 'half', 'scotland', 'italy', 'williams', 'try', 'coach', 'game', 'wale', 'penalty', 'bath', 'wilkinson', 'kick', 'centre', 'hodgson', 'leicester', 'gara', 'lion', 'player', 'driscoll', 'henson', 'irish', 'ruddock', 'stade', 'injury', 'andy', 'thomas', 'barkley', 'laporte', 'referee', 'wing', 'lewsey', 'scrum', 'fly', 'cueto', 'cardiff', 'flanker', 'woodward', 'twickenham', 'sale', 'welsh', 'gloucester', 'slam', 'wasp']\n",
            "\n",
            "\n",
            "Topic 3: \n",
            "['kenteris', 'greek', 'thanou', 'iaaf', 'drug', 'athens', 'olympic', 'athlete', 'charge', 'ban', 'olympics', 'sprinter', 'england', 'miss', 'dope', 'test', 'athletic', 'tribunal', 'holmes', 'indoor', 'race', 'decision', 'european', 'robinson', 'federation', 'trial', 'medal', 'ireland', 'rugby', 'sport', 'evidence', 'marathon', 'suspend', 'gold', 'compete', 'conte', 'birmingham', 'kostas', 'radcliffe', 'athletics', 'wales', 'balco', 'pair', 'coach', 'record', 'nation', 'training', 'rule', 'case', 'committee']\n",
            "\n",
            "\n"
          ],
          "name": "stdout"
        }
      ]
    },
    {
      "cell_type": "code",
      "metadata": {
        "id": "SJIzyuKIbDch"
      },
      "source": [
        ""
      ],
      "execution_count": null,
      "outputs": []
    },
    {
      "cell_type": "markdown",
      "metadata": {
        "id": "gKQEdkqcpv6e"
      },
      "source": [
        "## Article Categorization"
      ]
    },
    {
      "cell_type": "code",
      "metadata": {
        "id": "Z1MDvpcQpv6f",
        "outputId": "93c6c067-2e18-4a03-cb4d-0fe094e2f142",
        "colab": {
          "base_uri": "https://localhost:8080/",
          "height": 35
        }
      },
      "source": [
        "lsa_topic_matrix = svd_model.transform(X)\n",
        "lsa_topic_matrix.shape"
      ],
      "execution_count": null,
      "outputs": [
        {
          "output_type": "execute_result",
          "data": {
            "text/plain": [
              "(471, 4)"
            ]
          },
          "metadata": {
            "tags": []
          },
          "execution_count": 37
        }
      ]
    },
    {
      "cell_type": "code",
      "metadata": {
        "id": "EJam_i2Dpv6g",
        "outputId": "20d10960-424f-4606-ca16-f244bb643ed4",
        "colab": {
          "base_uri": "https://localhost:8080/",
          "height": 35
        }
      },
      "source": [
        "lsa_topic_matrix[41]"
      ],
      "execution_count": null,
      "outputs": [
        {
          "output_type": "execute_result",
          "data": {
            "text/plain": [
              "array([ 0.2770687 ,  0.12303793, -0.09832932,  0.15078977])"
            ]
          },
          "metadata": {
            "tags": []
          },
          "execution_count": 38
        }
      ]
    },
    {
      "cell_type": "code",
      "metadata": {
        "id": "qKqmubispv6i",
        "outputId": "8835f705-ef55-4734-fd21-8bf5e32ad44f",
        "colab": {
          "base_uri": "https://localhost:8080/",
          "height": 55
        }
      },
      "source": [
        "articles[9]"
      ],
      "execution_count": null,
      "outputs": [
        {
          "output_type": "execute_result",
          "data": {
            "text/plain": [
              "'Greene sets sights on world title\\n\\nMaurice Greene aims to wipe out the pain of losing his Olympic 100m title in Athens by winning a fourth World Championship crown this summer.\\n\\nHe had to settle for bronze in Greece behind fellow American Justin Gatlin and Francis Obikwelu of Portugal. \"It really hurts to look at that medal. It was my mistake. I lost because of the things I did,\" said Greene, who races in Birmingham on Friday. \"It\\'s never going to happen again. My goal - I\\'m going to win the worlds.\" Greene crossed the line just 0.02 seconds behind Gatlin, who won in 9.87 seconds in one of the closest and fastest sprints of all time. But Greene believes he lost the race and his title in the semi-finals. \"In my semi-final race, I should have won the race but I was conserving energy. \"That\\'s when Francis Obikwelu came up and I took third because I didn\\'t know he was there. \"I believe that\\'s what put me in lane seven in the final and, while I was in lane seven, I couldn\\'t feel anything in the race.\\n\\n\"I just felt like I was running all alone. \"I believe if I was in the middle of the race I would have been able to react to people that came ahead of me.\" Greene was also denied Olympic gold in the 4x100m men\\'s relay when he could not catch Britain\\'s Mark Lewis-Francis on the final leg. The Kansas star is set to go head-to-head with Lewis-Francis again at Friday\\'s Norwich Union Grand Prix. The pair contest the 60m, the distance over which Greene currently holds the world record of 6.39 seconds. He then has another indoor meeting in France before resuming training for the outdoor season and the task of recapturing his world title in Helsinki in August. Greene believes Gatlin will again prove the biggest threat to his ambitions in Finland. But he also admits he faces more than one rival for the world crown. \"There\\'s always someone else coming. I think when I was coming up I would say there was me and Ato (Boldon) in the young crowd,\" Greene said. \"Now you\\'ve got about five or six young guys coming up at the same time.\"\\n'"
            ]
          },
          "metadata": {
            "tags": []
          },
          "execution_count": 39
        }
      ]
    },
    {
      "cell_type": "code",
      "metadata": {
        "id": "UzVyga-Xpv6k",
        "outputId": "b3cc747f-4799-4c26-c91c-ac54439d9047",
        "colab": {
          "base_uri": "https://localhost:8080/",
          "height": 35
        }
      },
      "source": [
        "np.argmax(lsa_topic_matrix[9])"
      ],
      "execution_count": null,
      "outputs": [
        {
          "output_type": "execute_result",
          "data": {
            "text/plain": [
              "0"
            ]
          },
          "metadata": {
            "tags": []
          },
          "execution_count": 40
        }
      ]
    },
    {
      "cell_type": "code",
      "metadata": {
        "id": "vZscG6jfpv6m",
        "outputId": "da089540-3534-44d1-9c36-feb6060af170",
        "colab": {
          "base_uri": "https://localhost:8080/",
          "height": 55
        }
      },
      "source": [
        "articles[10]"
      ],
      "execution_count": null,
      "outputs": [
        {
          "output_type": "execute_result",
          "data": {
            "text/plain": [
              "\"Balco case trial date pushed back\\n\\nThe trial date for the Bay Area Laboratory Cooperative (Balco) steroid distribution case has been postponed.\\n\\nUS judge Susan Illston pushed back a preliminary evidentiary hearing - which was due to take place on Wednesday - until 6 June. No official trial date has been set but it is expected to begin in September. Balco founder Victor Conte along with James Valente, coach Remy Korchemny and trainer Greg Anderson are charged with distributing steroids to athletes.\\n\\nAnderson's clients include Barry Bonds, and several other baseball stars have been asked to appear before a congressional inquiry into steroid use in the major leagues. The Balco defence team have already lost their appeal to have the case dismissed at a pre-trial hearing in San Francisco but will still argue the case should not go to trial. The hearing in June will focus on the admissibility of evidence gathered during police raids on Balco's offices and Anderson's home. Conte and Anderson were not arrested at that point but federal agents did obtain statements from them. The defence are expected to challenge the legality of those interviews and if Ilston agrees she could could reject all the evidence from the raids. Balco has been accused by the United States Anti-Doping Agency (USADA) of being the source of the banned steroid THG and modafinil.\\n\\nFormer double world champion Kelli White and Olympic relay star Alvin Harrison have both been banned on the basis of materials discovered during the Balco investigation. Britain's former European 100m champion Dwain Chambers is currently serving a two-year ban after testing positive for THG in an out-of-competition test in 2003. And American sprinter Marion Jones has filed a lawsuit for defamation against Conte following his allegations that he gave her performance-enhancing drugs.\\n\""
            ]
          },
          "metadata": {
            "tags": []
          },
          "execution_count": 41
        }
      ]
    },
    {
      "cell_type": "code",
      "metadata": {
        "id": "FMfboowYpv6o",
        "outputId": "11d8d479-91c6-43b9-9a8d-284ace85a65a",
        "colab": {
          "base_uri": "https://localhost:8080/",
          "height": 35
        }
      },
      "source": [
        "np.argmax(lsa_topic_matrix[10])"
      ],
      "execution_count": null,
      "outputs": [
        {
          "output_type": "execute_result",
          "data": {
            "text/plain": [
              "3"
            ]
          },
          "metadata": {
            "tags": []
          },
          "execution_count": 42
        }
      ]
    },
    {
      "cell_type": "markdown",
      "metadata": {
        "id": "PXyVV91apv6r"
      },
      "source": [
        "## Challenge\n",
        "\n",
        "Use Latent Dirichlet Allocation (LDA) to build a topic model on the same dataset and compare its results with the above topics."
      ]
    },
    {
      "cell_type": "code",
      "metadata": {
        "id": "Vq7lHXbkpv6r",
        "outputId": "39e2165e-a30c-4938-c264-6b51a3eaabf6",
        "colab": {
          "base_uri": "https://localhost:8080/",
          "height": 176
        }
      },
      "source": [
        "## Topic Modelling \n",
        "from sklearn.decomposition import LatentDirichletAllocation\n",
        "from sklearn.feature_extraction.text import CountVectorizer\n",
        "import numpy as np \n",
        "\n",
        "def generate_topic_models(text):\n",
        "    cvectorizer = CountVectorizer(min_df=5, max_features=2000)\n",
        "    cvz = cvectorizer.fit_transform(text)\n",
        "    #replaceing count vectorizer with tfidf vectorizer\n",
        "    #cvectorizer = TfidfVectorizer(max_features= 2000,min_df= 5)\n",
        "    #cvz = cvectorizer.fit_transform(text)\n",
        "    \n",
        "    lda_model = LatentDirichletAllocation(n_components=4, learning_method='online', max_iter=100, random_state=42)\n",
        "    X_topics = lda_model.fit_transform(cvz)\n",
        "\n",
        "    topic_word = lda_model.components_ \n",
        "    vocab = cvectorizer.get_feature_names()\n",
        "   \n",
        "    return topic_word, vocab ,X_topics\n",
        "\n",
        "n_top_words = 20\n",
        "topic_word, vocab ,X_topics= generate_topic_models(pd.DataFrame(clean_articles,columns=['Clean_data'])[\"Clean_data\"].values)\n",
        "\n",
        "for i, topic_dist in enumerate(topic_word):\n",
        "    topic_words = np.array(vocab)[np.argsort(topic_dist)][:-(n_top_words+1):-1]\n",
        "    print (\"Topic \" + str(i+1) + \": \" + \" | \".join(topic_words) + \"\\n\")\n"
      ],
      "execution_count": null,
      "outputs": [
        {
          "output_type": "stream",
          "text": [
            "Topic 1: win | set | game | second | final | break | seed | match | roddick | play | beat | ireland | half | try | point | france | open | victory | williams | nadal\n",
            "\n",
            "Topic 2: play | year | england | win | player | game | team | cup | coach | rugby | good | match | world | think | time | new | come | injury | nation | great\n",
            "\n",
            "Topic 3: test | cricket | day | ball | series | wicket | england | run | play | pakistan | india | south | australia | match | africa | catch | vaughan | team | tour | batsman\n",
            "\n",
            "Topic 4: year | world | win | olympic | champion | race | indoor | time | test | second | good | athens | european | run | athlete | henman | british | final | record | set\n",
            "\n"
          ],
          "name": "stdout"
        }
      ]
    },
    {
      "cell_type": "code",
      "metadata": {
        "id": "t-B3apQsPsRe"
      },
      "source": [
        "#def rowIndex(row):\n",
        "#    return row.name\n",
        "Final_data=pd.DataFrame(list(zip(articles,clean_articles)),columns=['article','Clean_data'])\n",
        "Final_data['lsa_output']=Final_data.apply(lambda x:np.argmax(lsa_topic_matrix[rowIndex(x)]),axis=1)\n",
        "Final_data['lda_output']=Final_data.apply(lambda x:np.argmax(X_topics[rowIndex(x)]),axis=1)\n",
        "#Final_data.head()"
      ],
      "execution_count": null,
      "outputs": []
    },
    {
      "cell_type": "code",
      "metadata": {
        "id": "Myz8vZ-5jqI8",
        "outputId": "5ba1d73b-f677-4197-badb-d00608251c43",
        "colab": {
          "base_uri": "https://localhost:8080/",
          "height": 233
        }
      },
      "source": [
        "#0=cricket,1=tennis, 2=rugby,3=olympic\n",
        "#1=tennis,2=cricket, 3=rugby,4=olympic\n",
        "#Final_data=Final_data.replace(to_replace={\"lsa_output\": {0:\"cricket\",1:\"tennis\", 2:\"rugby\",3:\"olympic\"}, 'lda_output': {1:\"tennis\",2:\"olympic\", 3:\"rugby\",4:\"cricket\"}})\n",
        "Final_data.head(15)\n",
        "pd.crosstab(Final_data[\"lsa_output\"],Final_data[\"lda_output\"],margins=True)\n"
      ],
      "execution_count": null,
      "outputs": [
        {
          "output_type": "execute_result",
          "data": {
            "text/html": [
              "<div>\n",
              "<style scoped>\n",
              "    .dataframe tbody tr th:only-of-type {\n",
              "        vertical-align: middle;\n",
              "    }\n",
              "\n",
              "    .dataframe tbody tr th {\n",
              "        vertical-align: top;\n",
              "    }\n",
              "\n",
              "    .dataframe thead th {\n",
              "        text-align: right;\n",
              "    }\n",
              "</style>\n",
              "<table border=\"1\" class=\"dataframe\">\n",
              "  <thead>\n",
              "    <tr style=\"text-align: right;\">\n",
              "      <th>lda_output</th>\n",
              "      <th>0</th>\n",
              "      <th>1</th>\n",
              "      <th>2</th>\n",
              "      <th>3</th>\n",
              "      <th>All</th>\n",
              "    </tr>\n",
              "    <tr>\n",
              "      <th>lsa_output</th>\n",
              "      <th></th>\n",
              "      <th></th>\n",
              "      <th></th>\n",
              "      <th></th>\n",
              "      <th></th>\n",
              "    </tr>\n",
              "  </thead>\n",
              "  <tbody>\n",
              "    <tr>\n",
              "      <th>0</th>\n",
              "      <td>89</td>\n",
              "      <td>166</td>\n",
              "      <td>101</td>\n",
              "      <td>69</td>\n",
              "      <td>425</td>\n",
              "    </tr>\n",
              "    <tr>\n",
              "      <th>1</th>\n",
              "      <td>1</td>\n",
              "      <td>0</td>\n",
              "      <td>0</td>\n",
              "      <td>17</td>\n",
              "      <td>18</td>\n",
              "    </tr>\n",
              "    <tr>\n",
              "      <th>2</th>\n",
              "      <td>2</td>\n",
              "      <td>0</td>\n",
              "      <td>0</td>\n",
              "      <td>0</td>\n",
              "      <td>2</td>\n",
              "    </tr>\n",
              "    <tr>\n",
              "      <th>3</th>\n",
              "      <td>0</td>\n",
              "      <td>0</td>\n",
              "      <td>0</td>\n",
              "      <td>26</td>\n",
              "      <td>26</td>\n",
              "    </tr>\n",
              "    <tr>\n",
              "      <th>All</th>\n",
              "      <td>92</td>\n",
              "      <td>166</td>\n",
              "      <td>101</td>\n",
              "      <td>112</td>\n",
              "      <td>471</td>\n",
              "    </tr>\n",
              "  </tbody>\n",
              "</table>\n",
              "</div>"
            ],
            "text/plain": [
              "lda_output   0    1    2    3  All\n",
              "lsa_output                        \n",
              "0           89  166  101   69  425\n",
              "1            1    0    0   17   18\n",
              "2            2    0    0    0    2\n",
              "3            0    0    0   26   26\n",
              "All         92  166  101  112  471"
            ]
          },
          "metadata": {
            "tags": []
          },
          "execution_count": 121
        }
      ]
    },
    {
      "cell_type": "code",
      "metadata": {
        "id": "Kpapho1G0EV8"
      },
      "source": [
        "Final_data.to_csv(r'NLPProject2Submission.csv')\n",
        "files.download('NLPProject2Submission.csv')"
      ],
      "execution_count": null,
      "outputs": []
    }
  ]
}