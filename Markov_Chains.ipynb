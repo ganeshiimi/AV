{
  "nbformat": 4,
  "nbformat_minor": 0,
  "metadata": {
    "colab": {
      "name": "Markov Chains.ipynb",
      "provenance": [],
      "collapsed_sections": [],
      "authorship_tag": "ABX9TyOEOunHE4KmNh2FF1NBOrcJ",
      "include_colab_link": true
    },
    "kernelspec": {
      "name": "python3",
      "display_name": "Python 3"
    }
  },
  "cells": [
    {
      "cell_type": "markdown",
      "metadata": {
        "id": "view-in-github",
        "colab_type": "text"
      },
      "source": [
        "<a href=\"https://colab.research.google.com/github/ganeshiimi/AV/blob/master/Markov_Chains.ipynb\" target=\"_parent\"><img src=\"https://colab.research.google.com/assets/colab-badge.svg\" alt=\"Open In Colab\"/></a>"
      ]
    },
    {
      "cell_type": "code",
      "metadata": {
        "id": "LOsq9_uJo3N0"
      },
      "source": [
        "#https://towardsdatascience.com/marketing-channel-attribution-with-markov-chains-in-python-part-2-the-complete-walkthrough-733c65b23323\n",
        "import os\n",
        "from google.colab import drive\n",
        "import pandas as pd\n",
        "import numpy as np"
      ],
      "execution_count": null,
      "outputs": []
    },
    {
      "cell_type": "code",
      "metadata": {
        "id": "5BSFP9pUkV8H",
        "outputId": "77dfc3a5-3021-4788-fe2c-77af8cadda10",
        "colab": {
          "base_uri": "https://localhost:8080/",
          "height": 35
        }
      },
      "source": [
        "\n",
        "drive.mount('/content/drive')"
      ],
      "execution_count": null,
      "outputs": [
        {
          "output_type": "stream",
          "text": [
            "Drive already mounted at /content/drive; to attempt to forcibly remount, call drive.mount(\"/content/drive\", force_remount=True).\n"
          ],
          "name": "stdout"
        }
      ]
    },
    {
      "cell_type": "code",
      "metadata": {
        "id": "OwwBqcRnobIB"
      },
      "source": [
        "os.chdir('/content/drive/My Drive/AV/Markov_chain')\n",
        "df=pd.read_csv('attribution data.csv',encoding= 'unicode_escape')"
      ],
      "execution_count": null,
      "outputs": []
    },
    {
      "cell_type": "code",
      "metadata": {
        "id": "UEYfYFZ4pY4N"
      },
      "source": [
        "df = df.sort_values(['cookie', 'time'],\n",
        "                    ascending=[False, True])\n",
        "df['visit_order'] = df.groupby('cookie').cumcount() + 1"
      ],
      "execution_count": null,
      "outputs": []
    },
    {
      "cell_type": "code",
      "metadata": {
        "id": "eupZlRiwp7SP",
        "outputId": "e6f40438-bad3-4bf0-c814-2483a95ca1a0",
        "colab": {
          "base_uri": "https://localhost:8080/",
          "height": 202
        }
      },
      "source": [
        "df.head()"
      ],
      "execution_count": null,
      "outputs": [
        {
          "output_type": "execute_result",
          "data": {
            "text/html": [
              "<div>\n",
              "<style scoped>\n",
              "    .dataframe tbody tr th:only-of-type {\n",
              "        vertical-align: middle;\n",
              "    }\n",
              "\n",
              "    .dataframe tbody tr th {\n",
              "        vertical-align: top;\n",
              "    }\n",
              "\n",
              "    .dataframe thead th {\n",
              "        text-align: right;\n",
              "    }\n",
              "</style>\n",
              "<table border=\"1\" class=\"dataframe\">\n",
              "  <thead>\n",
              "    <tr style=\"text-align: right;\">\n",
              "      <th></th>\n",
              "      <th>cookie</th>\n",
              "      <th>time</th>\n",
              "      <th>interaction</th>\n",
              "      <th>conversion</th>\n",
              "      <th>conversion_value</th>\n",
              "      <th>channel</th>\n",
              "      <th>visit_order</th>\n",
              "    </tr>\n",
              "  </thead>\n",
              "  <tbody>\n",
              "    <tr>\n",
              "      <th>586736</th>\n",
              "      <td>ooooohAFofEnonEikhAi3fF9o</td>\n",
              "      <td>2018-07-14T17:17:12Z</td>\n",
              "      <td>impression</td>\n",
              "      <td>0</td>\n",
              "      <td>0.0</td>\n",
              "      <td>Paid Search</td>\n",
              "      <td>1</td>\n",
              "    </tr>\n",
              "    <tr>\n",
              "      <th>586734</th>\n",
              "      <td>ooooiBh70D3k3BfAhDFfii9h7</td>\n",
              "      <td>2018-07-03T12:57:25Z</td>\n",
              "      <td>impression</td>\n",
              "      <td>0</td>\n",
              "      <td>0.0</td>\n",
              "      <td>Paid Search</td>\n",
              "      <td>1</td>\n",
              "    </tr>\n",
              "    <tr>\n",
              "      <th>586735</th>\n",
              "      <td>ooooiBh70D3k3BfAhDFfii9h7</td>\n",
              "      <td>2018-07-19T08:17:59Z</td>\n",
              "      <td>impression</td>\n",
              "      <td>0</td>\n",
              "      <td>0.0</td>\n",
              "      <td>Online Video</td>\n",
              "      <td>2</td>\n",
              "    </tr>\n",
              "    <tr>\n",
              "      <th>586731</th>\n",
              "      <td>ooooEiB0CCoEf9fiiC90Dfhfk</td>\n",
              "      <td>2018-07-06T23:30:38Z</td>\n",
              "      <td>impression</td>\n",
              "      <td>0</td>\n",
              "      <td>0.0</td>\n",
              "      <td>Online Display</td>\n",
              "      <td>1</td>\n",
              "    </tr>\n",
              "    <tr>\n",
              "      <th>586732</th>\n",
              "      <td>ooooEiB0CCoEf9fiiC90Dfhfk</td>\n",
              "      <td>2018-07-12T23:50:45Z</td>\n",
              "      <td>impression</td>\n",
              "      <td>0</td>\n",
              "      <td>0.0</td>\n",
              "      <td>Online Display</td>\n",
              "      <td>2</td>\n",
              "    </tr>\n",
              "  </tbody>\n",
              "</table>\n",
              "</div>"
            ],
            "text/plain": [
              "                           cookie  ... visit_order\n",
              "586736  ooooohAFofEnonEikhAi3fF9o  ...           1\n",
              "586734  ooooiBh70D3k3BfAhDFfii9h7  ...           1\n",
              "586735  ooooiBh70D3k3BfAhDFfii9h7  ...           2\n",
              "586731  ooooEiB0CCoEf9fiiC90Dfhfk  ...           1\n",
              "586732  ooooEiB0CCoEf9fiiC90Dfhfk  ...           2\n",
              "\n",
              "[5 rows x 7 columns]"
            ]
          },
          "metadata": {
            "tags": []
          },
          "execution_count": 71
        }
      ]
    },
    {
      "cell_type": "code",
      "metadata": {
        "id": "Xo0YkNimpx3i"
      },
      "source": [
        "df_paths = df.groupby('cookie')['channel'].aggregate(lambda x: x.unique().tolist()).reset_index()\n",
        "df_last_interaction = df.drop_duplicates('cookie', keep='last')[['cookie', 'conversion']]\n",
        "df_paths = pd.merge(df_paths, df_last_interaction, how='left', on='cookie')\n"
      ],
      "execution_count": null,
      "outputs": []
    },
    {
      "cell_type": "code",
      "metadata": {
        "id": "kLJZlgm1srgZ",
        "outputId": "49df8180-96e8-46b5-db27-59fcf20829dc",
        "colab": {
          "base_uri": "https://localhost:8080/",
          "height": 202
        }
      },
      "source": [
        "df_paths.head()"
      ],
      "execution_count": null,
      "outputs": [
        {
          "output_type": "execute_result",
          "data": {
            "text/html": [
              "<div>\n",
              "<style scoped>\n",
              "    .dataframe tbody tr th:only-of-type {\n",
              "        vertical-align: middle;\n",
              "    }\n",
              "\n",
              "    .dataframe tbody tr th {\n",
              "        vertical-align: top;\n",
              "    }\n",
              "\n",
              "    .dataframe thead th {\n",
              "        text-align: right;\n",
              "    }\n",
              "</style>\n",
              "<table border=\"1\" class=\"dataframe\">\n",
              "  <thead>\n",
              "    <tr style=\"text-align: right;\">\n",
              "      <th></th>\n",
              "      <th>cookie</th>\n",
              "      <th>channel</th>\n",
              "      <th>conversion</th>\n",
              "    </tr>\n",
              "  </thead>\n",
              "  <tbody>\n",
              "    <tr>\n",
              "      <th>0</th>\n",
              "      <td>00000FkCnDfDDf0iC97iC703B</td>\n",
              "      <td>[Instagram, Online Display]</td>\n",
              "      <td>0</td>\n",
              "    </tr>\n",
              "    <tr>\n",
              "      <th>1</th>\n",
              "      <td>0000nACkD9nFkBBDECD3ki00E</td>\n",
              "      <td>[Paid Search]</td>\n",
              "      <td>0</td>\n",
              "    </tr>\n",
              "    <tr>\n",
              "      <th>2</th>\n",
              "      <td>0003EfE37E93D0BC03iBhBBhF</td>\n",
              "      <td>[Paid Search]</td>\n",
              "      <td>0</td>\n",
              "    </tr>\n",
              "    <tr>\n",
              "      <th>3</th>\n",
              "      <td>00073CFE3FoFCn70fBhB3kfon</td>\n",
              "      <td>[Instagram]</td>\n",
              "      <td>0</td>\n",
              "    </tr>\n",
              "    <tr>\n",
              "      <th>4</th>\n",
              "      <td>00079hhBkDF3k3kDkiFi9EFAD</td>\n",
              "      <td>[Paid Search]</td>\n",
              "      <td>0</td>\n",
              "    </tr>\n",
              "  </tbody>\n",
              "</table>\n",
              "</div>"
            ],
            "text/plain": [
              "                      cookie                      channel  conversion\n",
              "0  00000FkCnDfDDf0iC97iC703B  [Instagram, Online Display]           0\n",
              "1  0000nACkD9nFkBBDECD3ki00E                [Paid Search]           0\n",
              "2  0003EfE37E93D0BC03iBhBBhF                [Paid Search]           0\n",
              "3  00073CFE3FoFCn70fBhB3kfon                  [Instagram]           0\n",
              "4  00079hhBkDF3k3kDkiFi9EFAD                [Paid Search]           0"
            ]
          },
          "metadata": {
            "tags": []
          },
          "execution_count": 73
        }
      ]
    },
    {
      "cell_type": "code",
      "metadata": {
        "id": "sy4iFQ4bI7Sm",
        "outputId": "8a0e2d17-7a0e-46af-e9f4-f65c9a0fa025",
        "colab": {
          "base_uri": "https://localhost:8080/",
          "height": 202
        }
      },
      "source": [
        "df_paths['path'] = np.where(df_paths['conversion'] == 0,['Start,']+df_paths['channel'].apply(','.join)+[',Null'],['Start,']+df_paths['channel'].apply(','.join)+[',Conversion'])\n",
        "df_paths['path'] = df_paths['path'].str.split(',')\n",
        "df_paths = df_paths[['cookie', 'path']]\n",
        "df_paths.head()"
      ],
      "execution_count": null,
      "outputs": [
        {
          "output_type": "execute_result",
          "data": {
            "text/html": [
              "<div>\n",
              "<style scoped>\n",
              "    .dataframe tbody tr th:only-of-type {\n",
              "        vertical-align: middle;\n",
              "    }\n",
              "\n",
              "    .dataframe tbody tr th {\n",
              "        vertical-align: top;\n",
              "    }\n",
              "\n",
              "    .dataframe thead th {\n",
              "        text-align: right;\n",
              "    }\n",
              "</style>\n",
              "<table border=\"1\" class=\"dataframe\">\n",
              "  <thead>\n",
              "    <tr style=\"text-align: right;\">\n",
              "      <th></th>\n",
              "      <th>cookie</th>\n",
              "      <th>path</th>\n",
              "    </tr>\n",
              "  </thead>\n",
              "  <tbody>\n",
              "    <tr>\n",
              "      <th>0</th>\n",
              "      <td>00000FkCnDfDDf0iC97iC703B</td>\n",
              "      <td>[Start, Instagram, Online Display, Null]</td>\n",
              "    </tr>\n",
              "    <tr>\n",
              "      <th>1</th>\n",
              "      <td>0000nACkD9nFkBBDECD3ki00E</td>\n",
              "      <td>[Start, Paid Search, Null]</td>\n",
              "    </tr>\n",
              "    <tr>\n",
              "      <th>2</th>\n",
              "      <td>0003EfE37E93D0BC03iBhBBhF</td>\n",
              "      <td>[Start, Paid Search, Null]</td>\n",
              "    </tr>\n",
              "    <tr>\n",
              "      <th>3</th>\n",
              "      <td>00073CFE3FoFCn70fBhB3kfon</td>\n",
              "      <td>[Start, Instagram, Null]</td>\n",
              "    </tr>\n",
              "    <tr>\n",
              "      <th>4</th>\n",
              "      <td>00079hhBkDF3k3kDkiFi9EFAD</td>\n",
              "      <td>[Start, Paid Search, Null]</td>\n",
              "    </tr>\n",
              "  </tbody>\n",
              "</table>\n",
              "</div>"
            ],
            "text/plain": [
              "                      cookie                                      path\n",
              "0  00000FkCnDfDDf0iC97iC703B  [Start, Instagram, Online Display, Null]\n",
              "1  0000nACkD9nFkBBDECD3ki00E                [Start, Paid Search, Null]\n",
              "2  0003EfE37E93D0BC03iBhBBhF                [Start, Paid Search, Null]\n",
              "3  00073CFE3FoFCn70fBhB3kfon                  [Start, Instagram, Null]\n",
              "4  00079hhBkDF3k3kDkiFi9EFAD                [Start, Paid Search, Null]"
            ]
          },
          "metadata": {
            "tags": []
          },
          "execution_count": 74
        }
      ]
    },
    {
      "cell_type": "code",
      "metadata": {
        "id": "psDBZF1Jz0O2"
      },
      "source": [
        "list_of_paths = df_paths['path']\n",
        "total_conversions = sum(path.count('Conversion') for path in df_paths['path'].tolist())\n",
        "base_conversion_rate = total_conversions / len(list_of_paths)"
      ],
      "execution_count": null,
      "outputs": []
    },
    {
      "cell_type": "code",
      "metadata": {
        "id": "V_kRXvr80nfO",
        "outputId": "60d96727-7ab3-4f11-ff4f-8952cff2cfe1",
        "colab": {
          "base_uri": "https://localhost:8080/",
          "height": 72
        }
      },
      "source": [
        "def transition_states(list_of_paths):\n",
        "    list_of_unique_channels = set(x for element in list_of_paths for x in element)\n",
        "    print(list_of_unique_channels)\n",
        "    transition_states = {x + '>' + y: 0 for x in list_of_unique_channels for y in list_of_unique_channels}\n",
        "    print(transition_states)\n",
        "    for possible_state in list_of_unique_channels:\n",
        "        if possible_state not in ['Conversion', 'Null']:\n",
        "            for user_path in list_of_paths:\n",
        "                if possible_state in user_path:\n",
        "                    indices = [i for i, s in enumerate(user_path) if possible_state in s]\n",
        "                    for col in indices:\n",
        "                        transition_states[user_path[col] + '>' + user_path[col + 1]] += 1\n",
        "\n",
        "    return transition_states\n",
        "\n",
        "\n",
        "trans_states = transition_states(list_of_paths)"
      ],
      "execution_count": null,
      "outputs": [
        {
          "output_type": "stream",
          "text": [
            "{'Start', 'Paid Search', 'Online Display', 'Conversion', 'Facebook', 'Online Video', 'Instagram', 'Null'}\n",
            "{'Start>Start': 0, 'Start>Paid Search': 0, 'Start>Online Display': 0, 'Start>Conversion': 0, 'Start>Facebook': 0, 'Start>Online Video': 0, 'Start>Instagram': 0, 'Start>Null': 0, 'Paid Search>Start': 0, 'Paid Search>Paid Search': 0, 'Paid Search>Online Display': 0, 'Paid Search>Conversion': 0, 'Paid Search>Facebook': 0, 'Paid Search>Online Video': 0, 'Paid Search>Instagram': 0, 'Paid Search>Null': 0, 'Online Display>Start': 0, 'Online Display>Paid Search': 0, 'Online Display>Online Display': 0, 'Online Display>Conversion': 0, 'Online Display>Facebook': 0, 'Online Display>Online Video': 0, 'Online Display>Instagram': 0, 'Online Display>Null': 0, 'Conversion>Start': 0, 'Conversion>Paid Search': 0, 'Conversion>Online Display': 0, 'Conversion>Conversion': 0, 'Conversion>Facebook': 0, 'Conversion>Online Video': 0, 'Conversion>Instagram': 0, 'Conversion>Null': 0, 'Facebook>Start': 0, 'Facebook>Paid Search': 0, 'Facebook>Online Display': 0, 'Facebook>Conversion': 0, 'Facebook>Facebook': 0, 'Facebook>Online Video': 0, 'Facebook>Instagram': 0, 'Facebook>Null': 0, 'Online Video>Start': 0, 'Online Video>Paid Search': 0, 'Online Video>Online Display': 0, 'Online Video>Conversion': 0, 'Online Video>Facebook': 0, 'Online Video>Online Video': 0, 'Online Video>Instagram': 0, 'Online Video>Null': 0, 'Instagram>Start': 0, 'Instagram>Paid Search': 0, 'Instagram>Online Display': 0, 'Instagram>Conversion': 0, 'Instagram>Facebook': 0, 'Instagram>Online Video': 0, 'Instagram>Instagram': 0, 'Instagram>Null': 0, 'Null>Start': 0, 'Null>Paid Search': 0, 'Null>Online Display': 0, 'Null>Conversion': 0, 'Null>Facebook': 0, 'Null>Online Video': 0, 'Null>Instagram': 0, 'Null>Null': 0}\n"
          ],
          "name": "stdout"
        }
      ]
    },
    {
      "cell_type": "code",
      "metadata": {
        "id": "RhkkqPpW12O5",
        "outputId": "30bb5643-8822-495d-adf8-0f618280682e",
        "colab": {
          "base_uri": "https://localhost:8080/",
          "height": 1000
        }
      },
      "source": [
        "trans_states"
      ],
      "execution_count": null,
      "outputs": [
        {
          "output_type": "execute_result",
          "data": {
            "text/plain": [
              "{'Conversion>Conversion': 0,\n",
              " 'Conversion>Facebook': 0,\n",
              " 'Conversion>Instagram': 0,\n",
              " 'Conversion>Null': 0,\n",
              " 'Conversion>Online Display': 0,\n",
              " 'Conversion>Online Video': 0,\n",
              " 'Conversion>Paid Search': 0,\n",
              " 'Conversion>Start': 0,\n",
              " 'Facebook>Conversion': 4690,\n",
              " 'Facebook>Facebook': 0,\n",
              " 'Facebook>Instagram': 15252,\n",
              " 'Facebook>Null': 59319,\n",
              " 'Facebook>Online Display': 2146,\n",
              " 'Facebook>Online Video': 2254,\n",
              " 'Facebook>Paid Search': 4464,\n",
              " 'Facebook>Start': 0,\n",
              " 'Instagram>Conversion': 2868,\n",
              " 'Instagram>Facebook': 10822,\n",
              " 'Instagram>Instagram': 0,\n",
              " 'Instagram>Null': 31153,\n",
              " 'Instagram>Online Display': 1164,\n",
              " 'Instagram>Online Video': 1193,\n",
              " 'Instagram>Paid Search': 2266,\n",
              " 'Instagram>Start': 0,\n",
              " 'Null>Conversion': 0,\n",
              " 'Null>Facebook': 0,\n",
              " 'Null>Instagram': 0,\n",
              " 'Null>Null': 0,\n",
              " 'Null>Online Display': 0,\n",
              " 'Null>Online Video': 0,\n",
              " 'Null>Paid Search': 0,\n",
              " 'Null>Start': 0,\n",
              " 'Online Display>Conversion': 2144,\n",
              " 'Online Display>Facebook': 2300,\n",
              " 'Online Display>Instagram': 1251,\n",
              " 'Online Display>Null': 32236,\n",
              " 'Online Display>Online Display': 0,\n",
              " 'Online Display>Online Video': 737,\n",
              " 'Online Display>Paid Search': 3936,\n",
              " 'Online Display>Start': 0,\n",
              " 'Online Video>Conversion': 3201,\n",
              " 'Online Video>Facebook': 2430,\n",
              " 'Online Video>Instagram': 1307,\n",
              " 'Online Video>Null': 31285,\n",
              " 'Online Video>Online Display': 775,\n",
              " 'Online Video>Online Video': 0,\n",
              " 'Online Video>Paid Search': 1964,\n",
              " 'Online Video>Start': 0,\n",
              " 'Paid Search>Conversion': 4736,\n",
              " 'Paid Search>Facebook': 5725,\n",
              " 'Paid Search>Instagram': 3038,\n",
              " 'Paid Search>Null': 68476,\n",
              " 'Paid Search>Online Display': 4269,\n",
              " 'Paid Search>Online Video': 2596,\n",
              " 'Paid Search>Paid Search': 0,\n",
              " 'Paid Search>Start': 0,\n",
              " 'Start>Conversion': 0,\n",
              " 'Start>Facebook': 66848,\n",
              " 'Start>Instagram': 28618,\n",
              " 'Start>Null': 0,\n",
              " 'Start>Online Display': 34250,\n",
              " 'Start>Online Video': 34182,\n",
              " 'Start>Paid Search': 76210,\n",
              " 'Start>Start': 0}"
            ]
          },
          "metadata": {
            "tags": []
          },
          "execution_count": 80
        }
      ]
    },
    {
      "cell_type": "code",
      "metadata": {
        "id": "FAGcMel91QJr",
        "outputId": "f2653d49-494e-4853-b427-b5fa787338ed",
        "colab": {
          "base_uri": "https://localhost:8080/",
          "height": 35
        }
      },
      "source": [
        "transition_states"
      ],
      "execution_count": null,
      "outputs": [
        {
          "output_type": "execute_result",
          "data": {
            "text/plain": [
              "<function __main__.transition_states>"
            ]
          },
          "metadata": {
            "tags": []
          },
          "execution_count": 78
        }
      ]
    }
  ]
}